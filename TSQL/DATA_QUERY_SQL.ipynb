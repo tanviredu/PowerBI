{
    "metadata": {
        "kernelspec": {
            "name": "SQL",
            "display_name": "SQL",
            "language": "sql"
        },
        "language_info": {
            "name": "sql",
            "version": ""
        }
    },
    "nbformat_minor": 2,
    "nbformat": 4,
    "cells": [
        {
            "cell_type": "code",
            "source": [
                "USE NewDB;"
            ],
            "metadata": {
                "azdata_cell_guid": "856c6cdd-3597-4190-93bc-f46d414b4314",
                "language": "sql"
            },
            "outputs": [
                {
                    "output_type": "display_data",
                    "data": {
                        "text/html": "Commands completed successfully."
                    },
                    "metadata": {}
                },
                {
                    "output_type": "display_data",
                    "data": {
                        "text/html": "Total execution time: 00:00:00.001"
                    },
                    "metadata": {}
                }
            ],
            "execution_count": 12
        },
        {
            "cell_type": "code",
            "source": [
                "SELECT 2* 7 AS EASY;\r\n",
                "SELECT SQRT(2) AS NOTSOEASY;"
            ],
            "metadata": {
                "language": "sql",
                "azdata_cell_guid": "11bb2b7b-8a6a-461a-adaa-05545c0a4304"
            },
            "outputs": [
                {
                    "output_type": "display_data",
                    "data": {
                        "text/html": "(1 row affected)"
                    },
                    "metadata": {}
                },
                {
                    "output_type": "display_data",
                    "data": {
                        "text/html": "(1 row affected)"
                    },
                    "metadata": {}
                },
                {
                    "output_type": "display_data",
                    "data": {
                        "text/html": "Total execution time: 00:00:00.007"
                    },
                    "metadata": {}
                },
                {
                    "output_type": "execute_result",
                    "metadata": {},
                    "execution_count": 13,
                    "data": {
                        "application/vnd.dataresource+json": {
                            "schema": {
                                "fields": [
                                    {
                                        "name": "EASY"
                                    }
                                ]
                            },
                            "data": [
                                {
                                    "EASY": "14"
                                }
                            ]
                        },
                        "text/html": [
                            "<table>",
                            "<tr><th>EASY</th></tr>",
                            "<tr><td>14</td></tr>",
                            "</table>"
                        ]
                    }
                },
                {
                    "output_type": "execute_result",
                    "metadata": {},
                    "execution_count": 13,
                    "data": {
                        "application/vnd.dataresource+json": {
                            "schema": {
                                "fields": [
                                    {
                                        "name": "NOTSOEASY"
                                    }
                                ]
                            },
                            "data": [
                                {
                                    "NOTSOEASY": "1.4142135623730951"
                                }
                            ]
                        },
                        "text/html": [
                            "<table>",
                            "<tr><th>NOTSOEASY</th></tr>",
                            "<tr><td>1.4142135623730951</td></tr>",
                            "</table>"
                        ]
                    }
                }
            ],
            "execution_count": 13
        },
        {
            "cell_type": "code",
            "source": [
                "SELECT 7/2;\r\n",
                "SELECT CAST(7 AS DECIMAL(5,2))/2;"
            ],
            "metadata": {
                "language": "sql",
                "azdata_cell_guid": "1c3a5dbd-2f95-4f9f-869b-01df7dd90075",
                "tags": [
                    "hide_input"
                ]
            },
            "outputs": [
                {
                    "output_type": "display_data",
                    "data": {
                        "text/html": "(1 row affected)"
                    },
                    "metadata": {}
                },
                {
                    "output_type": "display_data",
                    "data": {
                        "text/html": "(1 row affected)"
                    },
                    "metadata": {}
                },
                {
                    "output_type": "display_data",
                    "data": {
                        "text/html": "Total execution time: 00:00:00.007"
                    },
                    "metadata": {}
                },
                {
                    "output_type": "execute_result",
                    "metadata": {},
                    "execution_count": 14,
                    "data": {
                        "application/vnd.dataresource+json": {
                            "schema": {
                                "fields": [
                                    {
                                        "name": "(No column name)"
                                    }
                                ]
                            },
                            "data": [
                                {
                                    "(No column name)": "3"
                                }
                            ]
                        },
                        "text/html": [
                            "<table>",
                            "<tr><th>(No column name)</th></tr>",
                            "<tr><td>3</td></tr>",
                            "</table>"
                        ]
                    }
                },
                {
                    "output_type": "execute_result",
                    "metadata": {},
                    "execution_count": 14,
                    "data": {
                        "application/vnd.dataresource+json": {
                            "schema": {
                                "fields": [
                                    {
                                        "name": "(No column name)"
                                    }
                                ]
                            },
                            "data": [
                                {
                                    "(No column name)": "3.500000"
                                }
                            ]
                        },
                        "text/html": [
                            "<table>",
                            "<tr><th>(No column name)</th></tr>",
                            "<tr><td>3.500000</td></tr>",
                            "</table>"
                        ]
                    }
                }
            ],
            "execution_count": 14
        },
        {
            "cell_type": "code",
            "source": [
                "SELECT '4'+'4';\r\n",
                "SELECT 4+4;\r\n",
                "SELECT '4'+4"
            ],
            "metadata": {
                "azdata_cell_guid": "87fffb8c-5d35-4561-b177-ee0cbd699b74",
                "language": "sql",
                "tags": [
                    "hide_input"
                ]
            },
            "outputs": [
                {
                    "output_type": "display_data",
                    "data": {
                        "text/html": "(1 row affected)"
                    },
                    "metadata": {}
                },
                {
                    "output_type": "display_data",
                    "data": {
                        "text/html": "(1 row affected)"
                    },
                    "metadata": {}
                },
                {
                    "output_type": "display_data",
                    "data": {
                        "text/html": "(1 row affected)"
                    },
                    "metadata": {}
                },
                {
                    "output_type": "display_data",
                    "data": {
                        "text/html": "Total execution time: 00:00:00.010"
                    },
                    "metadata": {}
                },
                {
                    "output_type": "execute_result",
                    "metadata": {},
                    "execution_count": 15,
                    "data": {
                        "application/vnd.dataresource+json": {
                            "schema": {
                                "fields": [
                                    {
                                        "name": "(No column name)"
                                    }
                                ]
                            },
                            "data": [
                                {
                                    "(No column name)": "44"
                                }
                            ]
                        },
                        "text/html": [
                            "<table>",
                            "<tr><th>(No column name)</th></tr>",
                            "<tr><td>44</td></tr>",
                            "</table>"
                        ]
                    }
                },
                {
                    "output_type": "execute_result",
                    "metadata": {},
                    "execution_count": 15,
                    "data": {
                        "application/vnd.dataresource+json": {
                            "schema": {
                                "fields": [
                                    {
                                        "name": "(No column name)"
                                    }
                                ]
                            },
                            "data": [
                                {
                                    "(No column name)": "8"
                                }
                            ]
                        },
                        "text/html": [
                            "<table>",
                            "<tr><th>(No column name)</th></tr>",
                            "<tr><td>8</td></tr>",
                            "</table>"
                        ]
                    }
                },
                {
                    "output_type": "execute_result",
                    "metadata": {},
                    "execution_count": 15,
                    "data": {
                        "application/vnd.dataresource+json": {
                            "schema": {
                                "fields": [
                                    {
                                        "name": "(No column name)"
                                    }
                                ]
                            },
                            "data": [
                                {
                                    "(No column name)": "8"
                                }
                            ]
                        },
                        "text/html": [
                            "<table>",
                            "<tr><th>(No column name)</th></tr>",
                            "<tr><td>8</td></tr>",
                            "</table>"
                        ]
                    }
                }
            ],
            "execution_count": 15
        },
        {
            "cell_type": "code",
            "source": [
                "SELECT CAST('2019-1-1' AS DATE)\r\n",
                "SELECT "
            ],
            "metadata": {
                "azdata_cell_guid": "50bc10c0-3c3b-40d7-8e47-629bea98c9b8",
                "language": "sql"
            },
            "outputs": [
                {
                    "output_type": "display_data",
                    "data": {
                        "text/html": "(1 row affected)"
                    },
                    "metadata": {}
                },
                {
                    "output_type": "display_data",
                    "data": {
                        "text/html": "Total execution time: 00:00:00.012"
                    },
                    "metadata": {}
                },
                {
                    "output_type": "execute_result",
                    "metadata": {},
                    "execution_count": 16,
                    "data": {
                        "application/vnd.dataresource+json": {
                            "schema": {
                                "fields": [
                                    {
                                        "name": "(No column name)"
                                    }
                                ]
                            },
                            "data": [
                                {
                                    "(No column name)": "2019-01-01"
                                }
                            ]
                        },
                        "text/html": [
                            "<table>",
                            "<tr><th>(No column name)</th></tr>",
                            "<tr><td>2019-01-01</td></tr>",
                            "</table>"
                        ]
                    }
                }
            ],
            "execution_count": 16
        },
        {
            "cell_type": "code",
            "source": [
                "SELECT GETDATE() AS TODAY_DATE;"
            ],
            "metadata": {
                "language": "sql",
                "azdata_cell_guid": "4f2cf3cf-84dc-411f-af2a-b4f5c5517f0e"
            },
            "outputs": [
                {
                    "output_type": "display_data",
                    "data": {
                        "text/html": "(1 row affected)"
                    },
                    "metadata": {}
                },
                {
                    "output_type": "display_data",
                    "data": {
                        "text/html": "Total execution time: 00:00:00.034"
                    },
                    "metadata": {}
                },
                {
                    "output_type": "execute_result",
                    "metadata": {},
                    "execution_count": 18,
                    "data": {
                        "application/vnd.dataresource+json": {
                            "schema": {
                                "fields": [
                                    {
                                        "name": "TODAY_DATE"
                                    }
                                ]
                            },
                            "data": [
                                {
                                    "TODAY_DATE": "2024-05-20 13:56:59.150"
                                }
                            ]
                        },
                        "text/html": [
                            "<table>",
                            "<tr><th>TODAY_DATE</th></tr>",
                            "<tr><td>2024-05-20 13:56:59.150</td></tr>",
                            "</table>"
                        ]
                    }
                }
            ],
            "execution_count": 18
        },
        {
            "cell_type": "code",
            "source": [
                "USE master;\r\n",
                "GO\r\n",
                "\r\n",
                "DROP DATABASE IF EXISTS TSQLDemoDB;\r\n",
                "GO\r\n",
                "\r\n",
                "CREATE DATABASE TSQLDemoDB;\r\n",
                "GO\r\n",
                "\r\n",
                "USE TSQLDemoDB;\r\n",
                "GO\r\n",
                "\r\n",
                "CREATE TABLE Customers  (\r\n",
                "                        Customer VARCHAR(20) NOT NULL \r\n",
                "\t\t\t\t\t\t\tPRIMARY KEY,\r\n",
                "                        Country VARCHAR(20) NULL\r\n",
                "                        );\r\n",
                "\r\n",
                "CREATE TABLE Items\t\t(\r\n",
                "                        Item VARCHAR(20) NOT NULL \r\n",
                "\t\t\t\t\t\t\tPRIMARY KEY,\r\n",
                "\t\t\t\t\t\tColor VARCHAR(10) NOT NULL\r\n",
                "\t\t\t\t\t\t\tCHECK (Color IN ('Black', 'White', 'Yellow', 'Blue', 'Red'))\r\n",
                "                        );\r\n",
                "\r\n",
                "CREATE TABLE Orders\t\t(\r\n",
                "\t\t\t\t\t\tOrderID INTEGER NOT NULL \r\n",
                "\t\t\t\t\t\t\tPRIMARY KEY,\r\n",
                "\t\t\t\t\t\tOrderDate DATE NOT NULL,\r\n",
                "\t\t\t\t\t\tCustomer VARCHAR(20) NOT NULL \r\n",
                "\t\t\t\t\t\t\tREFERENCES Customers(Customer) \r\n",
                "\t\t\t\t\t\t);\r\n",
                "\r\n",
                "CREATE TABLE OrderItems (\r\n",
                "                        OrderID INTEGER NOT NULL \r\n",
                "\t\t\t\t\t\t\tREFERENCES Orders(OrderID),\r\n",
                "                        Item VARCHAR(20) NOT NULL \r\n",
                "\t\t\t\t\t\t\tREFERENCES Items(Item),\r\n",
                "                        Quantity INTEGER NOT NULL \r\n",
                "\t\t\t\t\t\t\tCHECK (Quantity > 0),\r\n",
                "                        Price DECIMAL(9,2) NOT NULL \r\n",
                "\t\t\t\t\t\t\tCHECK (Price > 0),\r\n",
                "                        PRIMARY KEY (OrderID, Item)\r\n",
                "                        );\r\n",
                "\r\n",
                "INSERT INTO Customers (Customer, Country)\r\n",
                "VALUES\t('Jack', 'USA'), ('Kelly', 'USA'), ('Sunil', 'India'), \r\n",
                "\t\t('Chen', 'China'), ('Bob', NULL);\r\n",
                "\r\n",
                "INSERT INTO Items (Item, Color)\r\n",
                "VALUES  ('Headphones', 'White'), ('MP3 Player', 'Black'), \r\n",
                "\t\t('Audio Cable', 'Blue'), ('Amplifier', 'Black'), ('Turntable', 'White');\r\n",
                "\r\n",
                "INSERT INTO Orders (OrderID, OrderDate, Customer)\r\n",
                "VALUES  (1, '20190101', 'Jack'), (2, '20190101', 'Bob'), \r\n",
                "\t\t(3, '20190115', 'Jack'), (4, '20190116', 'Chen');\r\n",
                "\r\n",
                "INSERT INTO OrderItems (OrderID, Item, Quantity, Price)\r\n",
                "VALUES  (1, 'MP3 Player', 1, 27.00), (1, 'Headphones', 1, 35.50),\r\n",
                "        (2, 'Turntable', 1, 170.00),\r\n",
                "        (3, 'Amplifier', 1, 148.00), (3, 'Audio Cable', 3, 12.50),\r\n",
                "        (4, 'Amplifier', 1, 133.50), (4, 'Audio Cable', 2, 11.00), (4, 'Turntable', 2, 155.50);\r\n",
                "\r\n",
                "-- END"
            ],
            "metadata": {
                "language": "sql",
                "azdata_cell_guid": "36657cb9-0804-4bb6-8370-8f67c07f2e98"
            },
            "outputs": [
                {
                    "output_type": "display_data",
                    "data": {
                        "text/html": "Commands completed successfully."
                    },
                    "metadata": {}
                },
                {
                    "output_type": "display_data",
                    "data": {
                        "text/html": "Commands completed successfully."
                    },
                    "metadata": {}
                },
                {
                    "output_type": "display_data",
                    "data": {
                        "text/html": "Commands completed successfully."
                    },
                    "metadata": {}
                },
                {
                    "output_type": "display_data",
                    "data": {
                        "text/html": "Commands completed successfully."
                    },
                    "metadata": {}
                },
                {
                    "output_type": "display_data",
                    "data": {
                        "text/html": "(5 rows affected)"
                    },
                    "metadata": {}
                },
                {
                    "output_type": "display_data",
                    "data": {
                        "text/html": "(5 rows affected)"
                    },
                    "metadata": {}
                },
                {
                    "output_type": "display_data",
                    "data": {
                        "text/html": "(4 rows affected)"
                    },
                    "metadata": {}
                },
                {
                    "output_type": "display_data",
                    "data": {
                        "text/html": "(8 rows affected)"
                    },
                    "metadata": {}
                },
                {
                    "output_type": "display_data",
                    "data": {
                        "text/html": "Total execution time: 00:00:00.204"
                    },
                    "metadata": {}
                }
            ],
            "execution_count": 19
        },
        {
            "cell_type": "code",
            "source": [
                "USE TSQLDemoDB;\r\n",
                "SELECT \r\n",
                "    * \r\n",
                "FROM \r\n",
                "    Customers;"
            ],
            "metadata": {
                "azdata_cell_guid": "b62108fa-de80-4c7c-8639-f3293c613d12",
                "language": "sql"
            },
            "outputs": [
                {
                    "output_type": "display_data",
                    "data": {
                        "text/html": "(5 rows affected)"
                    },
                    "metadata": {}
                },
                {
                    "output_type": "display_data",
                    "data": {
                        "text/html": "Total execution time: 00:00:00.010"
                    },
                    "metadata": {}
                },
                {
                    "output_type": "execute_result",
                    "metadata": {},
                    "execution_count": 22,
                    "data": {
                        "application/vnd.dataresource+json": {
                            "schema": {
                                "fields": [
                                    {
                                        "name": "Customer"
                                    },
                                    {
                                        "name": "Country"
                                    }
                                ]
                            },
                            "data": [
                                {
                                    "Customer": "Bob",
                                    "Country": "NULL"
                                },
                                {
                                    "Customer": "Chen",
                                    "Country": "China"
                                },
                                {
                                    "Customer": "Jack",
                                    "Country": "USA"
                                },
                                {
                                    "Customer": "Kelly",
                                    "Country": "USA"
                                },
                                {
                                    "Customer": "Sunil",
                                    "Country": "India"
                                }
                            ]
                        },
                        "text/html": [
                            "<table>",
                            "<tr><th>Customer</th><th>Country</th></tr>",
                            "<tr><td>Bob</td><td>NULL</td></tr>",
                            "<tr><td>Chen</td><td>China</td></tr>",
                            "<tr><td>Jack</td><td>USA</td></tr>",
                            "<tr><td>Kelly</td><td>USA</td></tr>",
                            "<tr><td>Sunil</td><td>India</td></tr>",
                            "</table>"
                        ]
                    }
                }
            ],
            "execution_count": 22
        },
        {
            "cell_type": "code",
            "source": [
                "USE TSQLDemoDB;\r\n",
                "SELECT \r\n",
                "    'Pluralsight' \r\n",
                "AS \r\n",
                "    Training \r\n",
                "FROM \r\n",
                "    Customers;"
            ],
            "metadata": {
                "language": "sql",
                "azdata_cell_guid": "a19d98bb-814a-4fa5-a1ad-76a36fc68487",
                "tags": [
                    "hide_input"
                ]
            },
            "outputs": [
                {
                    "output_type": "display_data",
                    "data": {
                        "text/html": "(5 rows affected)"
                    },
                    "metadata": {}
                },
                {
                    "output_type": "display_data",
                    "data": {
                        "text/html": "Total execution time: 00:00:00.006"
                    },
                    "metadata": {}
                },
                {
                    "output_type": "execute_result",
                    "metadata": {},
                    "execution_count": 25,
                    "data": {
                        "application/vnd.dataresource+json": {
                            "schema": {
                                "fields": [
                                    {
                                        "name": "Training"
                                    }
                                ]
                            },
                            "data": [
                                {
                                    "Training": "Pluralsight"
                                },
                                {
                                    "Training": "Pluralsight"
                                },
                                {
                                    "Training": "Pluralsight"
                                },
                                {
                                    "Training": "Pluralsight"
                                },
                                {
                                    "Training": "Pluralsight"
                                }
                            ]
                        },
                        "text/html": [
                            "<table>",
                            "<tr><th>Training</th></tr>",
                            "<tr><td>Pluralsight</td></tr>",
                            "<tr><td>Pluralsight</td></tr>",
                            "<tr><td>Pluralsight</td></tr>",
                            "<tr><td>Pluralsight</td></tr>",
                            "<tr><td>Pluralsight</td></tr>",
                            "</table>"
                        ]
                    }
                }
            ],
            "execution_count": 25
        },
        {
            "cell_type": "code",
            "source": [
                "USE TSQLDemoDB;\r\n",
                "SELECT * FROM Customers;\r\n",
                "SELECT * FROM Orders;\r\n",
                "SELECT * FROM OrderItems;\r\n",
                "SELECT * FROM Items"
            ],
            "metadata": {
                "language": "sql",
                "azdata_cell_guid": "91785522-a69a-4881-a2aa-7aba7e5c7c80"
            },
            "outputs": [
                {
                    "output_type": "display_data",
                    "data": {
                        "text/html": "(5 rows affected)"
                    },
                    "metadata": {}
                },
                {
                    "output_type": "display_data",
                    "data": {
                        "text/html": "(4 rows affected)"
                    },
                    "metadata": {}
                },
                {
                    "output_type": "display_data",
                    "data": {
                        "text/html": "(8 rows affected)"
                    },
                    "metadata": {}
                },
                {
                    "output_type": "display_data",
                    "data": {
                        "text/html": "(5 rows affected)"
                    },
                    "metadata": {}
                },
                {
                    "output_type": "display_data",
                    "data": {
                        "text/html": "Total execution time: 00:00:00.038"
                    },
                    "metadata": {}
                },
                {
                    "output_type": "execute_result",
                    "metadata": {},
                    "execution_count": 26,
                    "data": {
                        "application/vnd.dataresource+json": {
                            "schema": {
                                "fields": [
                                    {
                                        "name": "Customer"
                                    },
                                    {
                                        "name": "Country"
                                    }
                                ]
                            },
                            "data": [
                                {
                                    "Customer": "Bob",
                                    "Country": "NULL"
                                },
                                {
                                    "Customer": "Chen",
                                    "Country": "China"
                                },
                                {
                                    "Customer": "Jack",
                                    "Country": "USA"
                                },
                                {
                                    "Customer": "Kelly",
                                    "Country": "USA"
                                },
                                {
                                    "Customer": "Sunil",
                                    "Country": "India"
                                }
                            ]
                        },
                        "text/html": [
                            "<table>",
                            "<tr><th>Customer</th><th>Country</th></tr>",
                            "<tr><td>Bob</td><td>NULL</td></tr>",
                            "<tr><td>Chen</td><td>China</td></tr>",
                            "<tr><td>Jack</td><td>USA</td></tr>",
                            "<tr><td>Kelly</td><td>USA</td></tr>",
                            "<tr><td>Sunil</td><td>India</td></tr>",
                            "</table>"
                        ]
                    }
                },
                {
                    "output_type": "execute_result",
                    "metadata": {},
                    "execution_count": 26,
                    "data": {
                        "application/vnd.dataresource+json": {
                            "schema": {
                                "fields": [
                                    {
                                        "name": "OrderID"
                                    },
                                    {
                                        "name": "OrderDate"
                                    },
                                    {
                                        "name": "Customer"
                                    }
                                ]
                            },
                            "data": [
                                {
                                    "OrderID": "1",
                                    "OrderDate": "2019-01-01",
                                    "Customer": "Jack"
                                },
                                {
                                    "OrderID": "2",
                                    "OrderDate": "2019-01-01",
                                    "Customer": "Bob"
                                },
                                {
                                    "OrderID": "3",
                                    "OrderDate": "2019-01-15",
                                    "Customer": "Jack"
                                },
                                {
                                    "OrderID": "4",
                                    "OrderDate": "2019-01-16",
                                    "Customer": "Chen"
                                }
                            ]
                        },
                        "text/html": [
                            "<table>",
                            "<tr><th>OrderID</th><th>OrderDate</th><th>Customer</th></tr>",
                            "<tr><td>1</td><td>2019-01-01</td><td>Jack</td></tr>",
                            "<tr><td>2</td><td>2019-01-01</td><td>Bob</td></tr>",
                            "<tr><td>3</td><td>2019-01-15</td><td>Jack</td></tr>",
                            "<tr><td>4</td><td>2019-01-16</td><td>Chen</td></tr>",
                            "</table>"
                        ]
                    }
                },
                {
                    "output_type": "execute_result",
                    "metadata": {},
                    "execution_count": 26,
                    "data": {
                        "application/vnd.dataresource+json": {
                            "schema": {
                                "fields": [
                                    {
                                        "name": "OrderID"
                                    },
                                    {
                                        "name": "Item"
                                    },
                                    {
                                        "name": "Quantity"
                                    },
                                    {
                                        "name": "Price"
                                    }
                                ]
                            },
                            "data": [
                                {
                                    "OrderID": "1",
                                    "Item": "Headphones",
                                    "Quantity": "1",
                                    "Price": "35.50"
                                },
                                {
                                    "OrderID": "1",
                                    "Item": "MP3 Player",
                                    "Quantity": "1",
                                    "Price": "27.00"
                                },
                                {
                                    "OrderID": "2",
                                    "Item": "Turntable",
                                    "Quantity": "1",
                                    "Price": "170.00"
                                },
                                {
                                    "OrderID": "3",
                                    "Item": "Amplifier",
                                    "Quantity": "1",
                                    "Price": "148.00"
                                },
                                {
                                    "OrderID": "3",
                                    "Item": "Audio Cable",
                                    "Quantity": "3",
                                    "Price": "12.50"
                                },
                                {
                                    "OrderID": "4",
                                    "Item": "Amplifier",
                                    "Quantity": "1",
                                    "Price": "133.50"
                                },
                                {
                                    "OrderID": "4",
                                    "Item": "Audio Cable",
                                    "Quantity": "2",
                                    "Price": "11.00"
                                },
                                {
                                    "OrderID": "4",
                                    "Item": "Turntable",
                                    "Quantity": "2",
                                    "Price": "155.50"
                                }
                            ]
                        },
                        "text/html": [
                            "<table>",
                            "<tr><th>OrderID</th><th>Item</th><th>Quantity</th><th>Price</th></tr>",
                            "<tr><td>1</td><td>Headphones</td><td>1</td><td>35.50</td></tr>",
                            "<tr><td>1</td><td>MP3 Player</td><td>1</td><td>27.00</td></tr>",
                            "<tr><td>2</td><td>Turntable</td><td>1</td><td>170.00</td></tr>",
                            "<tr><td>3</td><td>Amplifier</td><td>1</td><td>148.00</td></tr>",
                            "<tr><td>3</td><td>Audio Cable</td><td>3</td><td>12.50</td></tr>",
                            "<tr><td>4</td><td>Amplifier</td><td>1</td><td>133.50</td></tr>",
                            "<tr><td>4</td><td>Audio Cable</td><td>2</td><td>11.00</td></tr>",
                            "<tr><td>4</td><td>Turntable</td><td>2</td><td>155.50</td></tr>",
                            "</table>"
                        ]
                    }
                },
                {
                    "output_type": "execute_result",
                    "metadata": {},
                    "execution_count": 26,
                    "data": {
                        "application/vnd.dataresource+json": {
                            "schema": {
                                "fields": [
                                    {
                                        "name": "Item"
                                    },
                                    {
                                        "name": "Color"
                                    }
                                ]
                            },
                            "data": [
                                {
                                    "Item": "Amplifier",
                                    "Color": "Black"
                                },
                                {
                                    "Item": "Audio Cable",
                                    "Color": "Blue"
                                },
                                {
                                    "Item": "Headphones",
                                    "Color": "White"
                                },
                                {
                                    "Item": "MP3 Player",
                                    "Color": "Black"
                                },
                                {
                                    "Item": "Turntable",
                                    "Color": "White"
                                }
                            ]
                        },
                        "text/html": [
                            "<table>",
                            "<tr><th>Item</th><th>Color</th></tr>",
                            "<tr><td>Amplifier</td><td>Black</td></tr>",
                            "<tr><td>Audio Cable</td><td>Blue</td></tr>",
                            "<tr><td>Headphones</td><td>White</td></tr>",
                            "<tr><td>MP3 Player</td><td>Black</td></tr>",
                            "<tr><td>Turntable</td><td>White</td></tr>",
                            "</table>"
                        ]
                    }
                }
            ],
            "execution_count": 26
        },
        {
            "cell_type": "code",
            "source": [
                "USE TSQLDemoDB;\r\n",
                "SELECT\r\n",
                "    *\r\n",
                "FROM \r\n",
                "    Customers AS C \r\n",
                "INNER JOIN \r\n",
                "    Orders AS O \r\n",
                "ON\r\n",
                "    C.Customer = O.Customer;"
            ],
            "metadata": {
                "azdata_cell_guid": "29f5b9fd-d5a7-453c-bd18-e5f3fddd2a4a",
                "language": "sql"
            },
            "outputs": [
                {
                    "output_type": "display_data",
                    "data": {
                        "text/html": "(4 rows affected)"
                    },
                    "metadata": {}
                },
                {
                    "output_type": "display_data",
                    "data": {
                        "text/html": "Total execution time: 00:00:00.020"
                    },
                    "metadata": {}
                },
                {
                    "output_type": "execute_result",
                    "metadata": {},
                    "execution_count": 29,
                    "data": {
                        "application/vnd.dataresource+json": {
                            "schema": {
                                "fields": [
                                    {
                                        "name": "Customer"
                                    },
                                    {
                                        "name": "Country"
                                    },
                                    {
                                        "name": "OrderID"
                                    },
                                    {
                                        "name": "OrderDate"
                                    },
                                    {
                                        "name": "Customer"
                                    }
                                ]
                            },
                            "data": [
                                {
                                    "Customer": "Jack",
                                    "Country": "USA",
                                    "OrderID": "1",
                                    "OrderDate": "2019-01-01"
                                },
                                {
                                    "Customer": "Bob",
                                    "Country": "NULL",
                                    "OrderID": "2",
                                    "OrderDate": "2019-01-01"
                                },
                                {
                                    "Customer": "Jack",
                                    "Country": "USA",
                                    "OrderID": "3",
                                    "OrderDate": "2019-01-15"
                                },
                                {
                                    "Customer": "Chen",
                                    "Country": "China",
                                    "OrderID": "4",
                                    "OrderDate": "2019-01-16"
                                }
                            ]
                        },
                        "text/html": [
                            "<table>",
                            "<tr><th>Customer</th><th>Country</th><th>OrderID</th><th>OrderDate</th><th>Customer</th></tr>",
                            "<tr><td>Jack</td><td>USA</td><td>1</td><td>2019-01-01</td><td>Jack</td></tr>",
                            "<tr><td>Bob</td><td>NULL</td><td>2</td><td>2019-01-01</td><td>Bob</td></tr>",
                            "<tr><td>Jack</td><td>USA</td><td>3</td><td>2019-01-15</td><td>Jack</td></tr>",
                            "<tr><td>Chen</td><td>China</td><td>4</td><td>2019-01-16</td><td>Chen</td></tr>",
                            "</table>"
                        ]
                    }
                }
            ],
            "execution_count": 29
        },
        {
            "cell_type": "code",
            "source": [
                "USE TSQLDemoDB;\r\n",
                "SELECT \r\n",
                "    *\r\n",
                "FROM \r\n",
                "    Customers AS C \r\n",
                "INNER JOIN \r\n",
                "    Orders AS O\r\n",
                "ON\r\n",
                "    1=1;\r\n",
                ""
            ],
            "metadata": {
                "language": "sql",
                "azdata_cell_guid": "1f4c736f-84d2-4d13-af9c-a248f9d60cac"
            },
            "outputs": [
                {
                    "output_type": "display_data",
                    "data": {
                        "text/html": "(20 rows affected)"
                    },
                    "metadata": {}
                },
                {
                    "output_type": "display_data",
                    "data": {
                        "text/html": "Total execution time: 00:00:00.005"
                    },
                    "metadata": {}
                },
                {
                    "output_type": "execute_result",
                    "metadata": {},
                    "execution_count": 31,
                    "data": {
                        "application/vnd.dataresource+json": {
                            "schema": {
                                "fields": [
                                    {
                                        "name": "Customer"
                                    },
                                    {
                                        "name": "Country"
                                    },
                                    {
                                        "name": "OrderID"
                                    },
                                    {
                                        "name": "OrderDate"
                                    },
                                    {
                                        "name": "Customer"
                                    }
                                ]
                            },
                            "data": [
                                {
                                    "Customer": "Jack",
                                    "Country": "NULL",
                                    "OrderID": "1",
                                    "OrderDate": "2019-01-01"
                                },
                                {
                                    "Customer": "Jack",
                                    "Country": "China",
                                    "OrderID": "1",
                                    "OrderDate": "2019-01-01"
                                },
                                {
                                    "Customer": "Jack",
                                    "Country": "USA",
                                    "OrderID": "1",
                                    "OrderDate": "2019-01-01"
                                },
                                {
                                    "Customer": "Jack",
                                    "Country": "USA",
                                    "OrderID": "1",
                                    "OrderDate": "2019-01-01"
                                },
                                {
                                    "Customer": "Jack",
                                    "Country": "India",
                                    "OrderID": "1",
                                    "OrderDate": "2019-01-01"
                                },
                                {
                                    "Customer": "Bob",
                                    "Country": "NULL",
                                    "OrderID": "2",
                                    "OrderDate": "2019-01-01"
                                },
                                {
                                    "Customer": "Bob",
                                    "Country": "China",
                                    "OrderID": "2",
                                    "OrderDate": "2019-01-01"
                                },
                                {
                                    "Customer": "Bob",
                                    "Country": "USA",
                                    "OrderID": "2",
                                    "OrderDate": "2019-01-01"
                                },
                                {
                                    "Customer": "Bob",
                                    "Country": "USA",
                                    "OrderID": "2",
                                    "OrderDate": "2019-01-01"
                                },
                                {
                                    "Customer": "Bob",
                                    "Country": "India",
                                    "OrderID": "2",
                                    "OrderDate": "2019-01-01"
                                },
                                {
                                    "Customer": "Jack",
                                    "Country": "NULL",
                                    "OrderID": "3",
                                    "OrderDate": "2019-01-15"
                                },
                                {
                                    "Customer": "Jack",
                                    "Country": "China",
                                    "OrderID": "3",
                                    "OrderDate": "2019-01-15"
                                },
                                {
                                    "Customer": "Jack",
                                    "Country": "USA",
                                    "OrderID": "3",
                                    "OrderDate": "2019-01-15"
                                },
                                {
                                    "Customer": "Jack",
                                    "Country": "USA",
                                    "OrderID": "3",
                                    "OrderDate": "2019-01-15"
                                },
                                {
                                    "Customer": "Jack",
                                    "Country": "India",
                                    "OrderID": "3",
                                    "OrderDate": "2019-01-15"
                                },
                                {
                                    "Customer": "Chen",
                                    "Country": "NULL",
                                    "OrderID": "4",
                                    "OrderDate": "2019-01-16"
                                },
                                {
                                    "Customer": "Chen",
                                    "Country": "China",
                                    "OrderID": "4",
                                    "OrderDate": "2019-01-16"
                                },
                                {
                                    "Customer": "Chen",
                                    "Country": "USA",
                                    "OrderID": "4",
                                    "OrderDate": "2019-01-16"
                                },
                                {
                                    "Customer": "Chen",
                                    "Country": "USA",
                                    "OrderID": "4",
                                    "OrderDate": "2019-01-16"
                                },
                                {
                                    "Customer": "Chen",
                                    "Country": "India",
                                    "OrderID": "4",
                                    "OrderDate": "2019-01-16"
                                }
                            ]
                        },
                        "text/html": [
                            "<table>",
                            "<tr><th>Customer</th><th>Country</th><th>OrderID</th><th>OrderDate</th><th>Customer</th></tr>",
                            "<tr><td>Bob</td><td>NULL</td><td>1</td><td>2019-01-01</td><td>Jack</td></tr>",
                            "<tr><td>Chen</td><td>China</td><td>1</td><td>2019-01-01</td><td>Jack</td></tr>",
                            "<tr><td>Jack</td><td>USA</td><td>1</td><td>2019-01-01</td><td>Jack</td></tr>",
                            "<tr><td>Kelly</td><td>USA</td><td>1</td><td>2019-01-01</td><td>Jack</td></tr>",
                            "<tr><td>Sunil</td><td>India</td><td>1</td><td>2019-01-01</td><td>Jack</td></tr>",
                            "<tr><td>Bob</td><td>NULL</td><td>2</td><td>2019-01-01</td><td>Bob</td></tr>",
                            "<tr><td>Chen</td><td>China</td><td>2</td><td>2019-01-01</td><td>Bob</td></tr>",
                            "<tr><td>Jack</td><td>USA</td><td>2</td><td>2019-01-01</td><td>Bob</td></tr>",
                            "<tr><td>Kelly</td><td>USA</td><td>2</td><td>2019-01-01</td><td>Bob</td></tr>",
                            "<tr><td>Sunil</td><td>India</td><td>2</td><td>2019-01-01</td><td>Bob</td></tr>",
                            "<tr><td>Bob</td><td>NULL</td><td>3</td><td>2019-01-15</td><td>Jack</td></tr>",
                            "<tr><td>Chen</td><td>China</td><td>3</td><td>2019-01-15</td><td>Jack</td></tr>",
                            "<tr><td>Jack</td><td>USA</td><td>3</td><td>2019-01-15</td><td>Jack</td></tr>",
                            "<tr><td>Kelly</td><td>USA</td><td>3</td><td>2019-01-15</td><td>Jack</td></tr>",
                            "<tr><td>Sunil</td><td>India</td><td>3</td><td>2019-01-15</td><td>Jack</td></tr>",
                            "<tr><td>Bob</td><td>NULL</td><td>4</td><td>2019-01-16</td><td>Chen</td></tr>",
                            "<tr><td>Chen</td><td>China</td><td>4</td><td>2019-01-16</td><td>Chen</td></tr>",
                            "<tr><td>Jack</td><td>USA</td><td>4</td><td>2019-01-16</td><td>Chen</td></tr>",
                            "<tr><td>Kelly</td><td>USA</td><td>4</td><td>2019-01-16</td><td>Chen</td></tr>",
                            "<tr><td>Sunil</td><td>India</td><td>4</td><td>2019-01-16</td><td>Chen</td></tr>",
                            "</table>"
                        ]
                    }
                }
            ],
            "execution_count": 31
        },
        {
            "cell_type": "code",
            "source": [
                "USE TSQLDemoDB;\r\n",
                "SELECT * FROM Customers;\r\n",
                "SELECT * FROM Orders;"
            ],
            "metadata": {
                "azdata_cell_guid": "a08410a8-bba5-4973-ba61-21c89c0f2ab2",
                "language": "sql"
            },
            "outputs": [
                {
                    "output_type": "display_data",
                    "data": {
                        "text/html": "(5 rows affected)"
                    },
                    "metadata": {}
                },
                {
                    "output_type": "display_data",
                    "data": {
                        "text/html": "(4 rows affected)"
                    },
                    "metadata": {}
                },
                {
                    "output_type": "display_data",
                    "data": {
                        "text/html": "Total execution time: 00:00:00.011"
                    },
                    "metadata": {}
                },
                {
                    "output_type": "execute_result",
                    "metadata": {},
                    "execution_count": 32,
                    "data": {
                        "application/vnd.dataresource+json": {
                            "schema": {
                                "fields": [
                                    {
                                        "name": "Customer"
                                    },
                                    {
                                        "name": "Country"
                                    }
                                ]
                            },
                            "data": [
                                {
                                    "Customer": "Bob",
                                    "Country": "NULL"
                                },
                                {
                                    "Customer": "Chen",
                                    "Country": "China"
                                },
                                {
                                    "Customer": "Jack",
                                    "Country": "USA"
                                },
                                {
                                    "Customer": "Kelly",
                                    "Country": "USA"
                                },
                                {
                                    "Customer": "Sunil",
                                    "Country": "India"
                                }
                            ]
                        },
                        "text/html": [
                            "<table>",
                            "<tr><th>Customer</th><th>Country</th></tr>",
                            "<tr><td>Bob</td><td>NULL</td></tr>",
                            "<tr><td>Chen</td><td>China</td></tr>",
                            "<tr><td>Jack</td><td>USA</td></tr>",
                            "<tr><td>Kelly</td><td>USA</td></tr>",
                            "<tr><td>Sunil</td><td>India</td></tr>",
                            "</table>"
                        ]
                    }
                },
                {
                    "output_type": "execute_result",
                    "metadata": {},
                    "execution_count": 32,
                    "data": {
                        "application/vnd.dataresource+json": {
                            "schema": {
                                "fields": [
                                    {
                                        "name": "OrderID"
                                    },
                                    {
                                        "name": "OrderDate"
                                    },
                                    {
                                        "name": "Customer"
                                    }
                                ]
                            },
                            "data": [
                                {
                                    "OrderID": "1",
                                    "OrderDate": "2019-01-01",
                                    "Customer": "Jack"
                                },
                                {
                                    "OrderID": "2",
                                    "OrderDate": "2019-01-01",
                                    "Customer": "Bob"
                                },
                                {
                                    "OrderID": "3",
                                    "OrderDate": "2019-01-15",
                                    "Customer": "Jack"
                                },
                                {
                                    "OrderID": "4",
                                    "OrderDate": "2019-01-16",
                                    "Customer": "Chen"
                                }
                            ]
                        },
                        "text/html": [
                            "<table>",
                            "<tr><th>OrderID</th><th>OrderDate</th><th>Customer</th></tr>",
                            "<tr><td>1</td><td>2019-01-01</td><td>Jack</td></tr>",
                            "<tr><td>2</td><td>2019-01-01</td><td>Bob</td></tr>",
                            "<tr><td>3</td><td>2019-01-15</td><td>Jack</td></tr>",
                            "<tr><td>4</td><td>2019-01-16</td><td>Chen</td></tr>",
                            "</table>"
                        ]
                    }
                }
            ],
            "execution_count": 32
        },
        {
            "cell_type": "code",
            "source": [
                ""
            ],
            "metadata": {
                "azdata_cell_guid": "6830c71b-d382-4d8e-ad63-01103a8542e7",
                "language": "sql"
            },
            "outputs": [],
            "execution_count": null
        },
        {
            "cell_type": "code",
            "source": [
                "USE TSQLDemoDB;\r\n",
                "SELECT\r\n",
                "    *\r\n",
                "FROM \r\n",
                "    Customers AS C \r\n",
                "LEFT OUTER JOIN \r\n",
                "    Orders AS O \r\n",
                "ON\r\n",
                "    C.Customer = O.Customer;"
            ],
            "metadata": {
                "azdata_cell_guid": "8960d58a-afb5-4938-9d2b-576095733c12",
                "language": "sql"
            },
            "outputs": [
                {
                    "output_type": "display_data",
                    "data": {
                        "text/html": "(6 rows affected)"
                    },
                    "metadata": {}
                },
                {
                    "output_type": "display_data",
                    "data": {
                        "text/html": "Total execution time: 00:00:00.026"
                    },
                    "metadata": {}
                },
                {
                    "output_type": "execute_result",
                    "metadata": {},
                    "execution_count": 33,
                    "data": {
                        "application/vnd.dataresource+json": {
                            "schema": {
                                "fields": [
                                    {
                                        "name": "Customer"
                                    },
                                    {
                                        "name": "Country"
                                    },
                                    {
                                        "name": "OrderID"
                                    },
                                    {
                                        "name": "OrderDate"
                                    },
                                    {
                                        "name": "Customer"
                                    }
                                ]
                            },
                            "data": [
                                {
                                    "Customer": "Bob",
                                    "Country": "NULL",
                                    "OrderID": "2",
                                    "OrderDate": "2019-01-01"
                                },
                                {
                                    "Customer": "Chen",
                                    "Country": "China",
                                    "OrderID": "4",
                                    "OrderDate": "2019-01-16"
                                },
                                {
                                    "Customer": "Jack",
                                    "Country": "USA",
                                    "OrderID": "1",
                                    "OrderDate": "2019-01-01"
                                },
                                {
                                    "Customer": "Jack",
                                    "Country": "USA",
                                    "OrderID": "3",
                                    "OrderDate": "2019-01-15"
                                },
                                {
                                    "Customer": "NULL",
                                    "Country": "USA",
                                    "OrderID": "NULL",
                                    "OrderDate": "NULL"
                                },
                                {
                                    "Customer": "NULL",
                                    "Country": "India",
                                    "OrderID": "NULL",
                                    "OrderDate": "NULL"
                                }
                            ]
                        },
                        "text/html": [
                            "<table>",
                            "<tr><th>Customer</th><th>Country</th><th>OrderID</th><th>OrderDate</th><th>Customer</th></tr>",
                            "<tr><td>Bob</td><td>NULL</td><td>2</td><td>2019-01-01</td><td>Bob</td></tr>",
                            "<tr><td>Chen</td><td>China</td><td>4</td><td>2019-01-16</td><td>Chen</td></tr>",
                            "<tr><td>Jack</td><td>USA</td><td>1</td><td>2019-01-01</td><td>Jack</td></tr>",
                            "<tr><td>Jack</td><td>USA</td><td>3</td><td>2019-01-15</td><td>Jack</td></tr>",
                            "<tr><td>Kelly</td><td>USA</td><td>NULL</td><td>NULL</td><td>NULL</td></tr>",
                            "<tr><td>Sunil</td><td>India</td><td>NULL</td><td>NULL</td><td>NULL</td></tr>",
                            "</table>"
                        ]
                    }
                }
            ],
            "execution_count": 33
        },
        {
            "cell_type": "code",
            "source": [
                "USE TSQLDemoDB;\r\n",
                "SELECT \r\n",
                "    * \r\n",
                "FROM \r\n",
                "    Customers\r\n",
                "WHERE \r\n",
                "    Country IS NOT NULL;"
            ],
            "metadata": {
                "azdata_cell_guid": "b3f082df-de7a-4ffa-bfb9-824e1d209261",
                "language": "sql",
                "tags": []
            },
            "outputs": [
                {
                    "output_type": "display_data",
                    "data": {
                        "text/html": "(4 rows affected)"
                    },
                    "metadata": {}
                },
                {
                    "output_type": "display_data",
                    "data": {
                        "text/html": "Total execution time: 00:00:00.020"
                    },
                    "metadata": {}
                },
                {
                    "output_type": "execute_result",
                    "metadata": {},
                    "execution_count": 34,
                    "data": {
                        "application/vnd.dataresource+json": {
                            "schema": {
                                "fields": [
                                    {
                                        "name": "Customer"
                                    },
                                    {
                                        "name": "Country"
                                    }
                                ]
                            },
                            "data": [
                                {
                                    "Customer": "Chen",
                                    "Country": "China"
                                },
                                {
                                    "Customer": "Jack",
                                    "Country": "USA"
                                },
                                {
                                    "Customer": "Kelly",
                                    "Country": "USA"
                                },
                                {
                                    "Customer": "Sunil",
                                    "Country": "India"
                                }
                            ]
                        },
                        "text/html": [
                            "<table>",
                            "<tr><th>Customer</th><th>Country</th></tr>",
                            "<tr><td>Chen</td><td>China</td></tr>",
                            "<tr><td>Jack</td><td>USA</td></tr>",
                            "<tr><td>Kelly</td><td>USA</td></tr>",
                            "<tr><td>Sunil</td><td>India</td></tr>",
                            "</table>"
                        ]
                    }
                }
            ],
            "execution_count": 34
        },
        {
            "cell_type": "code",
            "source": [
                "USE TSQLDemoDB;\r\n",
                "\r\n",
                "SELECT * FROM Orders WHERE OrderDate BETWEEN '20190101' AND '20190115';"
            ],
            "metadata": {
                "azdata_cell_guid": "45f57484-9681-48ca-86b8-105e9323c834",
                "language": "sql"
            },
            "outputs": [
                {
                    "output_type": "display_data",
                    "data": {
                        "text/html": "(3 rows affected)"
                    },
                    "metadata": {}
                },
                {
                    "output_type": "display_data",
                    "data": {
                        "text/html": "Total execution time: 00:00:00.010"
                    },
                    "metadata": {}
                },
                {
                    "output_type": "execute_result",
                    "metadata": {},
                    "execution_count": 36,
                    "data": {
                        "application/vnd.dataresource+json": {
                            "schema": {
                                "fields": [
                                    {
                                        "name": "OrderID"
                                    },
                                    {
                                        "name": "OrderDate"
                                    },
                                    {
                                        "name": "Customer"
                                    }
                                ]
                            },
                            "data": [
                                {
                                    "OrderID": "1",
                                    "OrderDate": "2019-01-01",
                                    "Customer": "Jack"
                                },
                                {
                                    "OrderID": "2",
                                    "OrderDate": "2019-01-01",
                                    "Customer": "Bob"
                                },
                                {
                                    "OrderID": "3",
                                    "OrderDate": "2019-01-15",
                                    "Customer": "Jack"
                                }
                            ]
                        },
                        "text/html": [
                            "<table>",
                            "<tr><th>OrderID</th><th>OrderDate</th><th>Customer</th></tr>",
                            "<tr><td>1</td><td>2019-01-01</td><td>Jack</td></tr>",
                            "<tr><td>2</td><td>2019-01-01</td><td>Bob</td></tr>",
                            "<tr><td>3</td><td>2019-01-15</td><td>Jack</td></tr>",
                            "</table>"
                        ]
                    }
                }
            ],
            "execution_count": 36
        },
        {
            "cell_type": "code",
            "source": [
                "USE TSQLDemoDB;\r\n",
                "SELECT * FROM Customers WHERE Country BETWEEN 'A' AND 'Z';"
            ],
            "metadata": {
                "azdata_cell_guid": "307b1037-12fb-43f8-bc73-2351d30d121e",
                "language": "sql"
            },
            "outputs": [
                {
                    "output_type": "display_data",
                    "data": {
                        "text/html": "(4 rows affected)"
                    },
                    "metadata": {}
                },
                {
                    "output_type": "display_data",
                    "data": {
                        "text/html": "Total execution time: 00:00:00.006"
                    },
                    "metadata": {}
                },
                {
                    "output_type": "execute_result",
                    "metadata": {},
                    "execution_count": 37,
                    "data": {
                        "application/vnd.dataresource+json": {
                            "schema": {
                                "fields": [
                                    {
                                        "name": "Customer"
                                    },
                                    {
                                        "name": "Country"
                                    }
                                ]
                            },
                            "data": [
                                {
                                    "Customer": "Chen",
                                    "Country": "China"
                                },
                                {
                                    "Customer": "Jack",
                                    "Country": "USA"
                                },
                                {
                                    "Customer": "Kelly",
                                    "Country": "USA"
                                },
                                {
                                    "Customer": "Sunil",
                                    "Country": "India"
                                }
                            ]
                        },
                        "text/html": [
                            "<table>",
                            "<tr><th>Customer</th><th>Country</th></tr>",
                            "<tr><td>Chen</td><td>China</td></tr>",
                            "<tr><td>Jack</td><td>USA</td></tr>",
                            "<tr><td>Kelly</td><td>USA</td></tr>",
                            "<tr><td>Sunil</td><td>India</td></tr>",
                            "</table>"
                        ]
                    }
                }
            ],
            "execution_count": 37
        },
        {
            "cell_type": "code",
            "source": [
                "USE TSQLDemoDB;\r\n",
                "SELECT  * FROM Items;"
            ],
            "metadata": {
                "language": "sql",
                "azdata_cell_guid": "e91b8fb9-c6a7-442a-a01a-a0bf0f7ea466"
            },
            "outputs": [
                {
                    "output_type": "display_data",
                    "data": {
                        "text/html": "(5 rows affected)"
                    },
                    "metadata": {}
                },
                {
                    "output_type": "display_data",
                    "data": {
                        "text/html": "Total execution time: 00:00:00.003"
                    },
                    "metadata": {}
                },
                {
                    "output_type": "execute_result",
                    "metadata": {},
                    "execution_count": 39,
                    "data": {
                        "application/vnd.dataresource+json": {
                            "schema": {
                                "fields": [
                                    {
                                        "name": "Item"
                                    },
                                    {
                                        "name": "Color"
                                    }
                                ]
                            },
                            "data": [
                                {
                                    "Item": "Amplifier",
                                    "Color": "Black"
                                },
                                {
                                    "Item": "Audio Cable",
                                    "Color": "Blue"
                                },
                                {
                                    "Item": "Headphones",
                                    "Color": "White"
                                },
                                {
                                    "Item": "MP3 Player",
                                    "Color": "Black"
                                },
                                {
                                    "Item": "Turntable",
                                    "Color": "White"
                                }
                            ]
                        },
                        "text/html": [
                            "<table>",
                            "<tr><th>Item</th><th>Color</th></tr>",
                            "<tr><td>Amplifier</td><td>Black</td></tr>",
                            "<tr><td>Audio Cable</td><td>Blue</td></tr>",
                            "<tr><td>Headphones</td><td>White</td></tr>",
                            "<tr><td>MP3 Player</td><td>Black</td></tr>",
                            "<tr><td>Turntable</td><td>White</td></tr>",
                            "</table>"
                        ]
                    }
                }
            ],
            "execution_count": 39
        },
        {
            "cell_type": "code",
            "source": [
                ""
            ],
            "metadata": {
                "language": "sql",
                "azdata_cell_guid": "65bd3af9-6938-4a59-9eff-12b4fa8d62ce"
            },
            "outputs": [],
            "execution_count": null
        }
    ]
}