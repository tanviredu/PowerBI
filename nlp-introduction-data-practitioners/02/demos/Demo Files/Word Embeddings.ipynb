{
 "cells": [
  {
   "cell_type": "code",
   "execution_count": 1,
   "id": "f68bc285",
   "metadata": {},
   "outputs": [
    {
     "name": "stdout",
     "output_type": "stream",
     "text": [
      "Similarity between 'king' and 'queen': 0.61\n",
      "Similarity between 'king' and 'apple': 0.20\n"
     ]
    }
   ],
   "source": [
    "import spacy\n",
    "\n",
    "# Ensure you have this model downloaded\n",
    "# !python -m spacy download en_core_web_lg\n",
    "\n",
    "# Load the English model\n",
    "nlp = spacy.load('en_core_web_lg')\n",
    "\n",
    "# Process words with the model\n",
    "word1 = nlp(\"king\")\n",
    "word2 = nlp(\"queen\")\n",
    "word3 = nlp(\"apple\")\n",
    "\n",
    "# Calculate the similarities\n",
    "similarity1 = word1.similarity(word2)  \n",
    "similarity2 = word1.similarity(word3)  \n",
    "\n",
    "# Display the similarities\n",
    "print(f\"Similarity between 'king' and 'queen': {similarity1:.2f}\")\n",
    "print(f\"Similarity between 'king' and 'apple': {similarity2:.2f}\")"
   ]
  }
 ],
 "metadata": {
  "kernelspec": {
   "display_name": "Python 3 (ipykernel)",
   "language": "python",
   "name": "python3"
  },
  "language_info": {
   "codemirror_mode": {
    "name": "ipython",
    "version": 3
   },
   "file_extension": ".py",
   "mimetype": "text/x-python",
   "name": "python",
   "nbconvert_exporter": "python",
   "pygments_lexer": "ipython3",
   "version": "3.9.13"
  }
 },
 "nbformat": 4,
 "nbformat_minor": 5
}
