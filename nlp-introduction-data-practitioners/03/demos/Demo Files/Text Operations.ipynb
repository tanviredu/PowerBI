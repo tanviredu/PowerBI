{
 "cells": [
  {
   "cell_type": "code",
   "execution_count": null,
   "id": "4a3fb975",
   "metadata": {},
   "outputs": [],
   "source": [
    "# Install libraries\n",
    "# !pip install nltk\n",
    "# !pip install spacy"
   ]
  },
  {
   "cell_type": "code",
   "execution_count": 1,
   "id": "813d50cc",
   "metadata": {},
   "outputs": [
    {
     "name": "stdout",
     "output_type": "stream",
     "text": [
      "Version: 3.7.2\r\n"
     ]
    }
   ],
   "source": [
    "# Get spacy version\n",
    "!pip show spacy | grep Version"
   ]
  },
  {
   "cell_type": "code",
   "execution_count": 2,
   "id": "6d7c160e",
   "metadata": {},
   "outputs": [
    {
     "name": "stdout",
     "output_type": "stream",
     "text": [
      "Version: 3.8.1\r\n",
      "License: Apache License, Version 2.0\r\n"
     ]
    }
   ],
   "source": [
    "# Get NLTK version \n",
    "!pip show nltk | grep Version"
   ]
  },
  {
   "cell_type": "code",
   "execution_count": 3,
   "id": "b526a20f",
   "metadata": {},
   "outputs": [],
   "source": [
    "# Import the library\n",
    "import nltk"
   ]
  },
  {
   "cell_type": "code",
   "execution_count": 4,
   "id": "71a7a8cf",
   "metadata": {},
   "outputs": [
    {
     "data": {
      "text/plain": [
       "'Ben relocated to Paris last year to pursue his passion. His currently enrolled in a comprehensive course on Natural Language Processing'"
      ]
     },
     "execution_count": 4,
     "metadata": {},
     "output_type": "execute_result"
    }
   ],
   "source": [
    "text = \"Ben relocated to Paris last year to pursue his passion. His currently enrolled in a comprehensive course on Natural Language Processing\"\n",
    "text"
   ]
  },
  {
   "cell_type": "code",
   "execution_count": 5,
   "id": "8b0693a4",
   "metadata": {},
   "outputs": [
    {
     "name": "stderr",
     "output_type": "stream",
     "text": [
      "[nltk_data] Downloading package punkt to /Users/mihaela/nltk_data...\n",
      "[nltk_data]   Package punkt is already up-to-date!\n"
     ]
    },
    {
     "data": {
      "text/plain": [
       "True"
      ]
     },
     "execution_count": 5,
     "metadata": {},
     "output_type": "execute_result"
    }
   ],
   "source": [
    "nltk.download('punkt')"
   ]
  },
  {
   "cell_type": "code",
   "execution_count": 6,
   "id": "f824832a",
   "metadata": {},
   "outputs": [
    {
     "name": "stdout",
     "output_type": "stream",
     "text": [
      "['Ben', 'relocated', 'to', 'Paris', 'last', 'year', 'to', 'pursue', 'his', 'passion', '.', 'His', 'currently', 'enrolled', 'in', 'a', 'comprehensive', 'course', 'on', 'Natural', 'Language', 'Processing']\n"
     ]
    }
   ],
   "source": [
    "from nltk.tokenize import word_tokenize\n",
    "tokens = word_tokenize(text)\n",
    "print(tokens)"
   ]
  },
  {
   "cell_type": "code",
   "execution_count": 7,
   "id": "5b31ff2c",
   "metadata": {},
   "outputs": [
    {
     "name": "stdout",
     "output_type": "stream",
     "text": [
      "['ben', 'reloc', 'to', 'pari', 'last', 'year', 'to', 'pursu', 'hi', 'passion', '.', 'hi', 'current', 'enrol', 'in', 'a', 'comprehens', 'cours', 'on', 'natur', 'languag', 'process']\n"
     ]
    }
   ],
   "source": [
    "# Stemming\n",
    "from nltk.stem import PorterStemmer\n",
    "stemmer = PorterStemmer()\n",
    "stemmed_words = [stemmer.stem(token) for token in tokens]\n",
    "print(stemmed_words)"
   ]
  },
  {
   "cell_type": "code",
   "execution_count": 8,
   "id": "2b4d6842",
   "metadata": {},
   "outputs": [
    {
     "name": "stdout",
     "output_type": "stream",
     "text": [
      "[('Ben', 'NNP'), ('relocated', 'VBD'), ('to', 'TO'), ('Paris', 'NNP'), ('last', 'JJ'), ('year', 'NN'), ('to', 'TO'), ('pursue', 'VB'), ('his', 'PRP$'), ('passion', 'NN'), ('.', '.'), ('His', 'PRP$'), ('currently', 'RB'), ('enrolled', 'VBN'), ('in', 'IN'), ('a', 'DT'), ('comprehensive', 'JJ'), ('course', 'NN'), ('on', 'IN'), ('Natural', 'NNP'), ('Language', 'NNP'), ('Processing', 'NNP')]\n"
     ]
    }
   ],
   "source": [
    "# Part-of-speech tagging\n",
    "from nltk import pos_tag\n",
    "text_pos_tag = pos_tag(tokens)\n",
    "print(text_pos_tag)"
   ]
  },
  {
   "cell_type": "code",
   "execution_count": 9,
   "id": "0277b8f0",
   "metadata": {},
   "outputs": [
    {
     "name": "stdout",
     "output_type": "stream",
     "text": [
      "NNP: noun, proper, singular\n",
      "    Motown Venneboerger Czestochwa Ranzer Conchita Trumplane Christos\n",
      "    Oceanside Escobar Kreisler Sawyer Cougar Yvette Ervin ODI Darryl CTCA\n",
      "    Shannon A.K.C. Meltex Liverpool ...\n"
     ]
    }
   ],
   "source": [
    "nltk.help.upenn_tagset(\"NNP\")"
   ]
  },
  {
   "cell_type": "code",
   "execution_count": 10,
   "id": "70e9f08b",
   "metadata": {},
   "outputs": [
    {
     "name": "stderr",
     "output_type": "stream",
     "text": [
      "[nltk_data] Downloading package maxent_ne_chunker to\n",
      "[nltk_data]     /Users/mihaela/nltk_data...\n",
      "[nltk_data]   Package maxent_ne_chunker is already up-to-date!\n"
     ]
    },
    {
     "data": {
      "text/plain": [
       "True"
      ]
     },
     "execution_count": 10,
     "metadata": {},
     "output_type": "execute_result"
    },
    {
     "name": "stderr",
     "output_type": "stream",
     "text": [
      "[nltk_data] Downloading package words to /Users/mihaela/nltk_data...\n",
      "[nltk_data]   Package words is already up-to-date!\n"
     ]
    },
    {
     "data": {
      "text/plain": [
       "True"
      ]
     },
     "execution_count": 10,
     "metadata": {},
     "output_type": "execute_result"
    },
    {
     "name": "stdout",
     "output_type": "stream",
     "text": [
      "(S\n",
      "  (PERSON Ben/NNP)\n",
      "  relocated/VBD\n",
      "  to/TO\n",
      "  (GPE Paris/NNP)\n",
      "  last/JJ\n",
      "  year/NN\n",
      "  to/TO\n",
      "  pursue/VB\n",
      "  his/PRP$\n",
      "  passion/NN\n",
      "  ./.\n",
      "  His/PRP$\n",
      "  currently/RB\n",
      "  enrolled/VBN\n",
      "  in/IN\n",
      "  a/DT\n",
      "  comprehensive/JJ\n",
      "  course/NN\n",
      "  on/IN\n",
      "  (ORGANIZATION Natural/NNP Language/NNP)\n",
      "  Processing/NNP)\n"
     ]
    }
   ],
   "source": [
    "# Named Entity Recognition\n",
    "nltk.download('maxent_ne_chunker')\n",
    "nltk.download('words')\n",
    "entities = nltk.ne_chunk(text_pos_tag)\n",
    "print(entities)"
   ]
  }
 ],
 "metadata": {
  "kernelspec": {
   "display_name": "Python 3 (ipykernel)",
   "language": "python",
   "name": "python3"
  },
  "language_info": {
   "codemirror_mode": {
    "name": "ipython",
    "version": 3
   },
   "file_extension": ".py",
   "mimetype": "text/x-python",
   "name": "python",
   "nbconvert_exporter": "python",
   "pygments_lexer": "ipython3",
   "version": "3.9.13"
  }
 },
 "nbformat": 4,
 "nbformat_minor": 5
}
